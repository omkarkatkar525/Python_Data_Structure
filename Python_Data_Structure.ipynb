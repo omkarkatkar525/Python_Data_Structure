{
  "nbformat": 4,
  "nbformat_minor": 0,
  "metadata": {
    "colab": {
      "name": "Python_Data_Structure.ipynb",
      "provenance": []
    },
    "kernelspec": {
      "name": "python3",
      "display_name": "Python 3"
    },
    "language_info": {
      "name": "python"
    }
  },
  "cells": [
    {
      "cell_type": "markdown",
      "metadata": {
        "id": "BzeVMnSFXWel"
      },
      "source": [
        "**Data Structure in python**"
      ]
    },
    {
      "cell_type": "markdown",
      "metadata": {
        "id": "rgMYmlKfXVhO"
      },
      "source": [
        "1. List\n",
        "\n",
        "*   1D data\n",
        "*   Hetergenious\n",
        "*   Mutable\n",
        "*   Allows Dublicate values\n",
        "*   indexable and slicable\n",
        "\n",
        "\n",
        "\n",
        "\n"
      ]
    },
    {
      "cell_type": "code",
      "metadata": {
        "id": "SmyOkgXyCFrY"
      },
      "source": [
        "empty_cart=[]\n",
        "  "
      ],
      "execution_count": 1,
      "outputs": []
    },
    {
      "cell_type": "code",
      "metadata": {
        "colab": {
          "base_uri": "https://localhost:8080/"
        },
        "id": "LSHwMjQXXtYC",
        "outputId": "88e2daa9-3fae-4122-dff3-ff3f46436ca6"
      },
      "source": [
        "type(empty_cart)"
      ],
      "execution_count": 2,
      "outputs": [
        {
          "output_type": "execute_result",
          "data": {
            "text/plain": [
              "list"
            ]
          },
          "metadata": {},
          "execution_count": 2
        }
      ]
    },
    {
      "cell_type": "code",
      "metadata": {
        "id": "i8leUuncXw8u"
      },
      "source": [
        "Match_score = [1,2,3,3,3,40,45,12,32,5,45,464,5,45,4,5,45,45,'om']"
      ],
      "execution_count": 3,
      "outputs": []
    },
    {
      "cell_type": "code",
      "metadata": {
        "colab": {
          "base_uri": "https://localhost:8080/"
        },
        "id": "PCrJAA2fX-FA",
        "outputId": "4d361e81-37ce-4008-c5d9-05d64eb7cdff"
      },
      "source": [
        "type(Match_score)\n",
        "Match_score"
      ],
      "execution_count": null,
      "outputs": [
        {
          "output_type": "execute_result",
          "data": {
            "text/plain": [
              "[1, 2, 3, 3, 3, 40, 45, 12, 32, 5, 45, 464, 5, 45, 4, 5, 45, 45, 'om']"
            ]
          },
          "metadata": {},
          "execution_count": 4
        }
      ]
    },
    {
      "cell_type": "code",
      "metadata": {
        "colab": {
          "base_uri": "https://localhost:8080/"
        },
        "id": "1tVMkjxXYExg",
        "outputId": "1587dc03-4555-42d4-e1a4-d4076e3db767"
      },
      "source": [
        "#List is mutable (we can change the values any time)\n",
        "print(Match_score)\n",
        "Match_score[3]= 'omkar'\n",
        "Match_score"
      ],
      "execution_count": 4,
      "outputs": [
        {
          "output_type": "stream",
          "name": "stdout",
          "text": [
            "[1, 2, 3, 3, 3, 40, 45, 12, 32, 5, 45, 464, 5, 45, 4, 5, 45, 45, 'om']\n"
          ]
        },
        {
          "output_type": "execute_result",
          "data": {
            "text/plain": [
              "[1, 2, 3, 'omkar', 3, 40, 45, 12, 32, 5, 45, 464, 5, 45, 4, 5, 45, 45, 'om']"
            ]
          },
          "metadata": {},
          "execution_count": 4
        }
      ]
    },
    {
      "cell_type": "code",
      "metadata": {
        "colab": {
          "base_uri": "https://localhost:8080/"
        },
        "id": "yp1TkvTFYbox",
        "outputId": "3229780c-ad6e-4963-9033-54c4f08dd744"
      },
      "source": [
        "#list is indexable so slicable also \n",
        "Match_score[3:6]"
      ],
      "execution_count": 5,
      "outputs": [
        {
          "output_type": "execute_result",
          "data": {
            "text/plain": [
              "['omkar', 3, 40]"
            ]
          },
          "metadata": {},
          "execution_count": 5
        }
      ]
    },
    {
      "cell_type": "code",
      "metadata": {
        "colab": {
          "base_uri": "https://localhost:8080/"
        },
        "id": "KPo2gE4UZLhe",
        "outputId": "87eba2f1-de01-4db4-c42e-10e2dd9861a7"
      },
      "source": [
        "Match_score[3:]"
      ],
      "execution_count": 6,
      "outputs": [
        {
          "output_type": "execute_result",
          "data": {
            "text/plain": [
              "['omkar', 3, 40, 45, 12, 32, 5, 45, 464, 5, 45, 4, 5, 45, 45, 'om']"
            ]
          },
          "metadata": {},
          "execution_count": 6
        }
      ]
    },
    {
      "cell_type": "code",
      "metadata": {
        "colab": {
          "base_uri": "https://localhost:8080/"
        },
        "id": "J4Cz81QOZiUn",
        "outputId": "0fe2411e-11da-4964-8d5f-5dccc4eeb21b"
      },
      "source": [
        "Match_score[3:-1]"
      ],
      "execution_count": 7,
      "outputs": [
        {
          "output_type": "execute_result",
          "data": {
            "text/plain": [
              "['omkar', 3, 40, 45, 12, 32, 5, 45, 464, 5, 45, 4, 5, 45, 45]"
            ]
          },
          "metadata": {},
          "execution_count": 7
        }
      ]
    },
    {
      "cell_type": "code",
      "metadata": {
        "colab": {
          "base_uri": "https://localhost:8080/"
        },
        "id": "_FOk2S9ZZnVH",
        "outputId": "f7c36535-4821-4755-e331-d6ea349200c3"
      },
      "source": [
        "Match_score[-10:-5]"
      ],
      "execution_count": 8,
      "outputs": [
        {
          "output_type": "execute_result",
          "data": {
            "text/plain": [
              "[5, 45, 464, 5, 45]"
            ]
          },
          "metadata": {},
          "execution_count": 8
        }
      ]
    },
    {
      "cell_type": "code",
      "metadata": {
        "id": "E5H1zx0Z3FrH"
      },
      "source": [
        "Match_score.reverse()"
      ],
      "execution_count": 9,
      "outputs": []
    },
    {
      "cell_type": "code",
      "metadata": {
        "colab": {
          "base_uri": "https://localhost:8080/"
        },
        "id": "aIboJjDB3taJ",
        "outputId": "44543e61-e718-448f-8e5a-b749d003bfd8"
      },
      "source": [
        "Match_score"
      ],
      "execution_count": 10,
      "outputs": [
        {
          "output_type": "execute_result",
          "data": {
            "text/plain": [
              "['om', 45, 45, 5, 4, 45, 5, 464, 45, 5, 32, 12, 45, 40, 3, 'omkar', 3, 2, 1]"
            ]
          },
          "metadata": {},
          "execution_count": 10
        }
      ]
    },
    {
      "cell_type": "code",
      "metadata": {
        "colab": {
          "base_uri": "https://localhost:8080/"
        },
        "id": "hiYQes3S6MMj",
        "outputId": "d7b41dd6-e915-4d8d-a74d-ab96411a7b72"
      },
      "source": [
        "Match_score.index('om')"
      ],
      "execution_count": 11,
      "outputs": [
        {
          "output_type": "execute_result",
          "data": {
            "text/plain": [
              "0"
            ]
          },
          "metadata": {},
          "execution_count": 11
        }
      ]
    },
    {
      "cell_type": "code",
      "metadata": {
        "colab": {
          "base_uri": "https://localhost:8080/"
        },
        "id": "yFU24lPp3tVw",
        "outputId": "8581fb48-18a7-49a0-b68b-7b090e3e30f8"
      },
      "source": [
        "Match_score.count(5)"
      ],
      "execution_count": 12,
      "outputs": [
        {
          "output_type": "execute_result",
          "data": {
            "text/plain": [
              "3"
            ]
          },
          "metadata": {},
          "execution_count": 12
        }
      ]
    },
    {
      "cell_type": "code",
      "metadata": {
        "id": "ngZj9sg24mO5",
        "colab": {
          "base_uri": "https://localhost:8080/"
        },
        "outputId": "5a76109a-1fe9-4636-8a99-4d32792f4c4e"
      },
      "source": [
        "Match_score.append('alten')\n",
        "print(Match_score)"
      ],
      "execution_count": 13,
      "outputs": [
        {
          "output_type": "stream",
          "name": "stdout",
          "text": [
            "['om', 45, 45, 5, 4, 45, 5, 464, 45, 5, 32, 12, 45, 40, 3, 'omkar', 3, 2, 1, 'alten']\n"
          ]
        }
      ]
    },
    {
      "cell_type": "code",
      "metadata": {
        "id": "zKChkr3P3s-o"
      },
      "source": [
        "A3=['katkar',28]"
      ],
      "execution_count": 14,
      "outputs": []
    },
    {
      "cell_type": "code",
      "metadata": {
        "colab": {
          "base_uri": "https://localhost:8080/"
        },
        "id": "dlQIjYTw4644",
        "outputId": "b5989ffb-1c5b-44ef-8585-ca088201a791"
      },
      "source": [
        "Match_score.extend(A3)\n",
        "print(Match_score)"
      ],
      "execution_count": 15,
      "outputs": [
        {
          "output_type": "stream",
          "name": "stdout",
          "text": [
            "['om', 45, 45, 5, 4, 45, 5, 464, 45, 5, 32, 12, 45, 40, 3, 'omkar', 3, 2, 1, 'alten', 'katkar', 28]\n"
          ]
        }
      ]
    },
    {
      "cell_type": "code",
      "metadata": {
        "id": "8qtJGDi956HZ"
      },
      "source": [
        "Match_score.insert(2,'number')"
      ],
      "execution_count": 16,
      "outputs": []
    },
    {
      "cell_type": "code",
      "metadata": {
        "colab": {
          "base_uri": "https://localhost:8080/"
        },
        "id": "iVPwK6SV55-1",
        "outputId": "372b8961-bc35-4d9e-da89-ab3bedca465d"
      },
      "source": [
        "print(Match_score)"
      ],
      "execution_count": 17,
      "outputs": [
        {
          "output_type": "stream",
          "name": "stdout",
          "text": [
            "['om', 45, 'number', 45, 5, 4, 45, 5, 464, 45, 5, 32, 12, 45, 40, 3, 'omkar', 3, 2, 1, 'alten', 'katkar', 28]\n"
          ]
        }
      ]
    },
    {
      "cell_type": "code",
      "metadata": {
        "id": "ttYPghEd558R"
      },
      "source": [
        "Match_score.remove('omkar')"
      ],
      "execution_count": 18,
      "outputs": []
    },
    {
      "cell_type": "code",
      "metadata": {
        "colab": {
          "base_uri": "https://localhost:8080/"
        },
        "id": "J0tgBitO5555",
        "outputId": "ca09c9fd-793d-493d-f76a-bd72c4c65958"
      },
      "source": [
        "print(Match_score)"
      ],
      "execution_count": 19,
      "outputs": [
        {
          "output_type": "stream",
          "name": "stdout",
          "text": [
            "['om', 45, 'number', 45, 5, 4, 45, 5, 464, 45, 5, 32, 12, 45, 40, 3, 3, 2, 1, 'alten', 'katkar', 28]\n"
          ]
        }
      ]
    },
    {
      "cell_type": "code",
      "metadata": {
        "id": "xjd5Kmlw553b",
        "colab": {
          "base_uri": "https://localhost:8080/"
        },
        "outputId": "5763a5f3-0df7-4421-c461-c8def1b040ba"
      },
      "source": [
        "Match_score.remove(5)\n",
        "print(Match_score)"
      ],
      "execution_count": 20,
      "outputs": [
        {
          "output_type": "stream",
          "name": "stdout",
          "text": [
            "['om', 45, 'number', 45, 4, 45, 5, 464, 45, 5, 32, 12, 45, 40, 3, 3, 2, 1, 'alten', 'katkar', 28]\n"
          ]
        }
      ]
    },
    {
      "cell_type": "code",
      "metadata": {
        "colab": {
          "base_uri": "https://localhost:8080/"
        },
        "id": "vdP2xwU17wns",
        "outputId": "0d184eb3-35fd-4fc6-fce0-66b5bccd5e21"
      },
      "source": [
        "Match_score.pop(2)\n",
        "print(Match_score)"
      ],
      "execution_count": 21,
      "outputs": [
        {
          "output_type": "stream",
          "name": "stdout",
          "text": [
            "['om', 45, 45, 4, 45, 5, 464, 45, 5, 32, 12, 45, 40, 3, 3, 2, 1, 'alten', 'katkar', 28]\n"
          ]
        }
      ]
    },
    {
      "cell_type": "code",
      "metadata": {
        "colab": {
          "base_uri": "https://localhost:8080/"
        },
        "id": "zImmzfwh76td",
        "outputId": "143d75ec-8619-4c55-f4e7-843445aa74a6"
      },
      "source": [
        "Match_score.remove('alten')\n",
        "print(Match_score)"
      ],
      "execution_count": 22,
      "outputs": [
        {
          "output_type": "stream",
          "name": "stdout",
          "text": [
            "['om', 45, 45, 4, 45, 5, 464, 45, 5, 32, 12, 45, 40, 3, 3, 2, 1, 'katkar', 28]\n"
          ]
        }
      ]
    },
    {
      "cell_type": "code",
      "metadata": {
        "colab": {
          "base_uri": "https://localhost:8080/"
        },
        "id": "acCBe-9_9yQt",
        "outputId": "553d2a42-a6b5-4d4a-8345-9e6f8269a764"
      },
      "source": [
        "Match_score.remove('katkar')\n",
        "print(Match_score)"
      ],
      "execution_count": 23,
      "outputs": [
        {
          "output_type": "stream",
          "name": "stdout",
          "text": [
            "['om', 45, 45, 4, 45, 5, 464, 45, 5, 32, 12, 45, 40, 3, 3, 2, 1, 28]\n"
          ]
        }
      ]
    },
    {
      "cell_type": "code",
      "metadata": {
        "colab": {
          "base_uri": "https://localhost:8080/"
        },
        "id": "HanCGyUg9yFm",
        "outputId": "62ae46d4-dbe8-4a3a-8353-594df7b912a1"
      },
      "source": [
        "Match_score.remove('om')\n",
        "print(Match_score)"
      ],
      "execution_count": 24,
      "outputs": [
        {
          "output_type": "stream",
          "name": "stdout",
          "text": [
            "[45, 45, 4, 45, 5, 464, 45, 5, 32, 12, 45, 40, 3, 3, 2, 1, 28]\n"
          ]
        }
      ]
    },
    {
      "cell_type": "code",
      "metadata": {
        "colab": {
          "base_uri": "https://localhost:8080/"
        },
        "id": "O3s2Y1e195I2",
        "outputId": "7f62c80c-fe92-4c41-d0ed-604eb358a53a"
      },
      "source": [
        "Match_score.sort()\n",
        "print(Match_score)"
      ],
      "execution_count": 25,
      "outputs": [
        {
          "output_type": "stream",
          "name": "stdout",
          "text": [
            "[1, 2, 3, 3, 4, 5, 5, 12, 28, 32, 40, 45, 45, 45, 45, 45, 464]\n"
          ]
        }
      ]
    },
    {
      "cell_type": "markdown",
      "metadata": {
        "id": "b-fz8IdMa8bP"
      },
      "source": [
        "2. **Sets**\n",
        "\n",
        "*   1D\n",
        "*   Heterogenous\n",
        "*   mutable\n",
        "*   Not Indexbale and not sliceable\n",
        "*   Not allow duplicate values\n",
        "\n",
        "\n",
        "\n",
        "\n"
      ]
    },
    {
      "cell_type": "code",
      "metadata": {
        "id": "H_BQHRtQZrL5"
      },
      "source": [
        "empty_cart_2= set()"
      ],
      "execution_count": 26,
      "outputs": []
    },
    {
      "cell_type": "code",
      "metadata": {
        "colab": {
          "base_uri": "https://localhost:8080/"
        },
        "id": "EU33NaNTdFdu",
        "outputId": "f425b1e0-9ccb-4e3a-c99d-01401570d50d"
      },
      "source": [
        "type(empty_cart_2)"
      ],
      "execution_count": 27,
      "outputs": [
        {
          "output_type": "execute_result",
          "data": {
            "text/plain": [
              "set"
            ]
          },
          "metadata": {},
          "execution_count": 27
        }
      ]
    },
    {
      "cell_type": "code",
      "metadata": {
        "colab": {
          "base_uri": "https://localhost:8080/"
        },
        "id": "Yi98gEwgdMCm",
        "outputId": "1ddd5a27-e3f7-4ba4-8aaa-4a9846a3c343"
      },
      "source": [
        "fruits= {'apple','mango','pinapple','apple','mango'} \n",
        "#Set will not allow the dublicate values it will take only unique values\n",
        "fruits\n"
      ],
      "execution_count": 28,
      "outputs": [
        {
          "output_type": "execute_result",
          "data": {
            "text/plain": [
              "{'apple', 'mango', 'pinapple'}"
            ]
          },
          "metadata": {},
          "execution_count": 28
        }
      ]
    },
    {
      "cell_type": "code",
      "metadata": {
        "colab": {
          "base_uri": "https://localhost:8080/"
        },
        "id": "FXnkc-HbdlXK",
        "outputId": "ffd086dc-b64e-47df-fdb5-899c0e3fc042"
      },
      "source": [
        "type(fruits)"
      ],
      "execution_count": 29,
      "outputs": [
        {
          "output_type": "execute_result",
          "data": {
            "text/plain": [
              "set"
            ]
          },
          "metadata": {},
          "execution_count": 29
        }
      ]
    },
    {
      "cell_type": "code",
      "metadata": {
        "id": "z3l0UOXkd0R5"
      },
      "source": [
        "fruits.add(5)"
      ],
      "execution_count": 30,
      "outputs": []
    },
    {
      "cell_type": "code",
      "metadata": {
        "colab": {
          "base_uri": "https://localhost:8080/"
        },
        "id": "tGXIaYz42px-",
        "outputId": "966d33da-1494-41f4-cce2-2a722627e4dd"
      },
      "source": [
        "fruits\n"
      ],
      "execution_count": 31,
      "outputs": [
        {
          "output_type": "execute_result",
          "data": {
            "text/plain": [
              "{5, 'apple', 'mango', 'pinapple'}"
            ]
          },
          "metadata": {},
          "execution_count": 31
        }
      ]
    },
    {
      "cell_type": "code",
      "metadata": {
        "id": "nUAet5TD2rXd"
      },
      "source": [
        "fruits.add('banana')"
      ],
      "execution_count": 32,
      "outputs": []
    },
    {
      "cell_type": "code",
      "metadata": {
        "colab": {
          "base_uri": "https://localhost:8080/"
        },
        "id": "Z6ZPXVQ0204O",
        "outputId": "057e318b-a755-4658-c05f-43b6ada241dd"
      },
      "source": [
        "fruits"
      ],
      "execution_count": 33,
      "outputs": [
        {
          "output_type": "execute_result",
          "data": {
            "text/plain": [
              "{5, 'apple', 'banana', 'mango', 'pinapple'}"
            ]
          },
          "metadata": {},
          "execution_count": 33
        }
      ]
    },
    {
      "cell_type": "code",
      "metadata": {
        "id": "v_HrFPer26tO"
      },
      "source": [
        ""
      ],
      "execution_count": 33,
      "outputs": []
    },
    {
      "cell_type": "markdown",
      "metadata": {
        "id": "9PkctKBO_Pnv"
      },
      "source": [
        "3. **Tuples**\n",
        "*   1D\n",
        "*   Hetogenious\n",
        "*   Immutable\n",
        "*   Allows Duplicate Values"
      ]
    },
    {
      "cell_type": "code",
      "metadata": {
        "id": "iIdaNYd0_ypY"
      },
      "source": [
        "empty_name_list = ()"
      ],
      "execution_count": 34,
      "outputs": []
    },
    {
      "cell_type": "code",
      "metadata": {
        "colab": {
          "base_uri": "https://localhost:8080/"
        },
        "id": "wdXbJ9yi_-SX",
        "outputId": "72499120-19ad-4560-b0e7-7ff6e4753ec2"
      },
      "source": [
        "type(empty_name_list)"
      ],
      "execution_count": 35,
      "outputs": [
        {
          "output_type": "execute_result",
          "data": {
            "text/plain": [
              "tuple"
            ]
          },
          "metadata": {},
          "execution_count": 35
        }
      ]
    },
    {
      "cell_type": "code",
      "metadata": {
        "id": "zr0DGgd_AC43"
      },
      "source": [
        "name_list=('omkar','arun','arvin','ram','omkar','arun')"
      ],
      "execution_count": 36,
      "outputs": []
    },
    {
      "cell_type": "code",
      "metadata": {
        "colab": {
          "base_uri": "https://localhost:8080/"
        },
        "id": "iCA9SUw_AuFw",
        "outputId": "0d010ad4-5d10-42f5-daed-91126bca4951"
      },
      "source": [
        "name_list"
      ],
      "execution_count": 37,
      "outputs": [
        {
          "output_type": "execute_result",
          "data": {
            "text/plain": [
              "('omkar', 'arun', 'arvin', 'ram', 'omkar', 'arun')"
            ]
          },
          "metadata": {},
          "execution_count": 37
        }
      ]
    },
    {
      "cell_type": "code",
      "metadata": {
        "colab": {
          "base_uri": "https://localhost:8080/"
        },
        "id": "CwOYnC4cAvE4",
        "outputId": "8d9674df-50d1-4f93-f695-d92a408a838f"
      },
      "source": [
        "type(name_list)"
      ],
      "execution_count": 38,
      "outputs": [
        {
          "output_type": "execute_result",
          "data": {
            "text/plain": [
              "tuple"
            ]
          },
          "metadata": {},
          "execution_count": 38
        }
      ]
    },
    {
      "cell_type": "code",
      "metadata": {
        "colab": {
          "base_uri": "https://localhost:8080/"
        },
        "id": "GPXSzBHPA1uI",
        "outputId": "af796d67-588d-41f6-b607-40b73e31aae7"
      },
      "source": [
        "name_list[1:-1]"
      ],
      "execution_count": 39,
      "outputs": [
        {
          "output_type": "execute_result",
          "data": {
            "text/plain": [
              "('arun', 'arvin', 'ram', 'omkar')"
            ]
          },
          "metadata": {},
          "execution_count": 39
        }
      ]
    },
    {
      "cell_type": "markdown",
      "metadata": {
        "id": "10V9PhX0SO6Z"
      },
      "source": [
        "4. Dictionary - \n",
        "\n",
        "* key value pair\n",
        "\n",
        "\n",
        "\n",
        "\n",
        "\n",
        "\n"
      ]
    },
    {
      "cell_type": "code",
      "metadata": {
        "id": "GWJbM347SFDA"
      },
      "source": [
        "empty_data = {}"
      ],
      "execution_count": 40,
      "outputs": []
    },
    {
      "cell_type": "code",
      "metadata": {
        "colab": {
          "base_uri": "https://localhost:8080/"
        },
        "id": "B0JMUrwwSem5",
        "outputId": "582f583a-e637-48a8-ad21-ec6b2ed72880"
      },
      "source": [
        "type(empty_data)"
      ],
      "execution_count": 41,
      "outputs": [
        {
          "output_type": "execute_result",
          "data": {
            "text/plain": [
              "dict"
            ]
          },
          "metadata": {},
          "execution_count": 41
        }
      ]
    },
    {
      "cell_type": "code",
      "metadata": {
        "id": "WMh_z9a4Shxp"
      },
      "source": [
        "user_data = {'name':'omkar',\n",
        "             'last_name': 'katkar',\n",
        "             'age':28,\n",
        "             'W_name': 'ram'}"
      ],
      "execution_count": 42,
      "outputs": []
    },
    {
      "cell_type": "code",
      "metadata": {
        "colab": {
          "base_uri": "https://localhost:8080/"
        },
        "id": "zyOIdalnZpRM",
        "outputId": "3d685a0d-a1ac-4d99-8572-181b67c3e199"
      },
      "source": [
        "user_data"
      ],
      "execution_count": 43,
      "outputs": [
        {
          "output_type": "execute_result",
          "data": {
            "text/plain": [
              "{'W_name': 'ram', 'age': 28, 'last_name': 'katkar', 'name': 'omkar'}"
            ]
          },
          "metadata": {},
          "execution_count": 43
        }
      ]
    },
    {
      "cell_type": "code",
      "metadata": {
        "colab": {
          "base_uri": "https://localhost:8080/"
        },
        "id": "UdjvR1lzZrME",
        "outputId": "0e31254e-2815-407b-a56f-11533d864d6b"
      },
      "source": [
        "user_data.keys()"
      ],
      "execution_count": 44,
      "outputs": [
        {
          "output_type": "execute_result",
          "data": {
            "text/plain": [
              "dict_keys(['name', 'last_name', 'age', 'W_name'])"
            ]
          },
          "metadata": {},
          "execution_count": 44
        }
      ]
    },
    {
      "cell_type": "code",
      "metadata": {
        "colab": {
          "base_uri": "https://localhost:8080/"
        },
        "id": "1N5wPhUPd2tW",
        "outputId": "9c88d864-6184-4702-903f-38a6d335a58f"
      },
      "source": [
        "user_data.values()"
      ],
      "execution_count": 45,
      "outputs": [
        {
          "output_type": "execute_result",
          "data": {
            "text/plain": [
              "dict_values(['omkar', 'katkar', 28, 'ram'])"
            ]
          },
          "metadata": {},
          "execution_count": 45
        }
      ]
    },
    {
      "cell_type": "code",
      "metadata": {
        "id": "kAUBGL6Pd7LH"
      },
      "source": [
        "user_data.update()"
      ],
      "execution_count": 46,
      "outputs": []
    },
    {
      "cell_type": "code",
      "metadata": {
        "id": "YbTO4_cxesQJ"
      },
      "source": [
        "user_data = {'sno' :[1,2,3],\n",
        "             'fname' : ['omkar','ram','om'],\n",
        "             'last_name' : ['katkar','patil','kumar']}"
      ],
      "execution_count": 47,
      "outputs": []
    },
    {
      "cell_type": "code",
      "metadata": {
        "colab": {
          "base_uri": "https://localhost:8080/"
        },
        "id": "tm4c45Wafysk",
        "outputId": "7115f7a0-dda7-45ba-c216-b5e44a78c6bd"
      },
      "source": [
        "print(user_data)"
      ],
      "execution_count": 48,
      "outputs": [
        {
          "output_type": "stream",
          "name": "stdout",
          "text": [
            "{'sno': [1, 2, 3], 'fname': ['omkar', 'ram', 'om'], 'last_name': ['katkar', 'patil', 'kumar']}\n"
          ]
        }
      ]
    },
    {
      "cell_type": "code",
      "metadata": {
        "id": "2vJDSwzRf7hM"
      },
      "source": [
        "import pandas as pd"
      ],
      "execution_count": 49,
      "outputs": []
    },
    {
      "cell_type": "code",
      "metadata": {
        "colab": {
          "base_uri": "https://localhost:8080/",
          "height": 143
        },
        "id": "SoK5MeTJgGLO",
        "outputId": "efb61b4b-6f34-43ac-a81d-9a331fcf3ceb"
      },
      "source": [
        "pd.DataFrame(user_data)"
      ],
      "execution_count": 50,
      "outputs": [
        {
          "output_type": "execute_result",
          "data": {
            "text/html": [
              "<div>\n",
              "<style scoped>\n",
              "    .dataframe tbody tr th:only-of-type {\n",
              "        vertical-align: middle;\n",
              "    }\n",
              "\n",
              "    .dataframe tbody tr th {\n",
              "        vertical-align: top;\n",
              "    }\n",
              "\n",
              "    .dataframe thead th {\n",
              "        text-align: right;\n",
              "    }\n",
              "</style>\n",
              "<table border=\"1\" class=\"dataframe\">\n",
              "  <thead>\n",
              "    <tr style=\"text-align: right;\">\n",
              "      <th></th>\n",
              "      <th>sno</th>\n",
              "      <th>fname</th>\n",
              "      <th>last_name</th>\n",
              "    </tr>\n",
              "  </thead>\n",
              "  <tbody>\n",
              "    <tr>\n",
              "      <th>0</th>\n",
              "      <td>1</td>\n",
              "      <td>omkar</td>\n",
              "      <td>katkar</td>\n",
              "    </tr>\n",
              "    <tr>\n",
              "      <th>1</th>\n",
              "      <td>2</td>\n",
              "      <td>ram</td>\n",
              "      <td>patil</td>\n",
              "    </tr>\n",
              "    <tr>\n",
              "      <th>2</th>\n",
              "      <td>3</td>\n",
              "      <td>om</td>\n",
              "      <td>kumar</td>\n",
              "    </tr>\n",
              "  </tbody>\n",
              "</table>\n",
              "</div>"
            ],
            "text/plain": [
              "   sno  fname last_name\n",
              "0    1  omkar    katkar\n",
              "1    2    ram     patil\n",
              "2    3     om     kumar"
            ]
          },
          "metadata": {},
          "execution_count": 50
        }
      ]
    },
    {
      "cell_type": "code",
      "metadata": {
        "id": "A98fTrJ6gMKe"
      },
      "source": [
        ""
      ],
      "execution_count": 50,
      "outputs": []
    }
  ]
}